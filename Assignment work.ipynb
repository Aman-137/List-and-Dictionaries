{
 "cells": [
  {
   "cell_type": "markdown",
   "metadata": {},
   "source": [
    "### Reverse string word wise"
   ]
  },
  {
   "cell_type": "code",
   "execution_count": 1,
   "metadata": {},
   "outputs": [
    {
     "name": "stdout",
     "output_type": "stream",
     "text": [
      "Welcome to Coding Ninjas\n",
      "Ninjas Coding to Welcome\n"
     ]
    }
   ],
   "source": [
    "def reverseString(str):\n",
    "    \n",
    "    words = str.split(' ')\n",
    "    \n",
    "    reverse_str = ' '.join(reversed(words))\n",
    "    \n",
    "    return reverse_str\n",
    "\n",
    "str = input()\n",
    "ans = reverseString(str)\n",
    "print(ans)"
   ]
  },
  {
   "cell_type": "markdown",
   "metadata": {},
   "source": [
    "###  Largest Unique Substring"
   ]
  },
  {
   "cell_type": "code",
   "execution_count": 8,
   "metadata": {},
   "outputs": [
    {
     "name": "stdout",
     "output_type": "stream",
     "text": [
      "abcdabceb\n",
      "dabce\n"
     ]
    }
   ],
   "source": [
    "def findLongestSubstring(string):\n",
    " \n",
    "    n = len(string)\n",
    " \n",
    "    st = 0\n",
    " \n",
    "\n",
    "    maxlen = 0\n",
    " \n",
    "\n",
    "    start = 0\n",
    " \n",
    "\n",
    "    pos = {}\n",
    " \n",
    "\n",
    "    pos[string[0]] = 0\n",
    " \n",
    "    for i in range(1, n):\n",
    " \n",
    "\n",
    "        if string[i] not in pos:\n",
    "            pos[string[i]] = i\n",
    " \n",
    "        else:\n",
    "\n",
    "            if pos[string[i]] >= st:\n",
    " \n",
    "\n",
    "                currlen = i - st\n",
    "                if maxlen < currlen:\n",
    "                    maxlen = currlen\n",
    "                    start = st\n",
    " \n",
    "\n",
    "                \n",
    "                st = pos[string[i]] + 1\n",
    "             \n",
    "\n",
    "            pos[string[i]] = i\n",
    "         \n",
    "\n",
    "    if maxlen < i - st:\n",
    "        maxlen = i - st\n",
    "        start = st\n",
    "     \n",
    "\n",
    "    return string[start : start + maxlen]\n",
    "\n",
    "\n",
    "string = input()\n",
    "\n",
    "ans = findLongestSubstring(string)\n",
    "\n",
    "print(ans)"
   ]
  },
  {
   "cell_type": "markdown",
   "metadata": {},
   "source": [
    "### "
   ]
  },
  {
   "cell_type": "markdown",
   "metadata": {},
   "source": [
    "### Rough work"
   ]
  },
  {
   "cell_type": "code",
   "execution_count": 12,
   "metadata": {},
   "outputs": [
    {
     "name": "stdout",
     "output_type": "stream",
     "text": [
      "6\n",
      "3 12 34 2 0 -1\n",
      "34 2 0 -1 None\n"
     ]
    }
   ],
   "source": [
    "def printLeaders(arr, n):\n",
    " \n",
    "    for i in range(0, n):\n",
    "        for j in range(i, n):\n",
    "            if (arr[i] < arr[j]):\n",
    "                break\n",
    "            if (j == n - 1):\n",
    "                print(arr[i], end=\" \")\n",
    "                \n",
    "n = int(input())\n",
    "\n",
    "arr = [int(x) for x in input().strip().split(\" \")]\n",
    "\n",
    "ans = printLeaders(arr, n)\n",
    "print(ans)"
   ]
  },
  {
   "cell_type": "code",
   "execution_count": 14,
   "metadata": {},
   "outputs": [
    {
     "name": "stdout",
     "output_type": "stream",
     "text": [
      "6\n",
      "3 12 34 2 0 -1\n",
      "-1\n",
      "0 2 34 None\n"
     ]
    }
   ],
   "source": [
    "def printLeaders(arr, size):\n",
    "    \n",
    "    max_from_right = arr[size-1]  \n",
    "    print(max_from_right)  \n",
    "    for i in range( size-2, -1, -1):       \n",
    "        if max_from_right <= arr[i]:       \n",
    "            print(arr[i], end=\" \")\n",
    "            max_from_right = arr[i]\n",
    "\n",
    "size = int(input())\n",
    "\n",
    "arr = [int(x) for x in input().strip().split(\" \")]\n",
    "\n",
    "ans = printLeaders(arr, size)\n",
    "print(ans)          "
   ]
  },
  {
   "cell_type": "markdown",
   "metadata": {},
   "source": [
    "### Maximise the sum"
   ]
  },
  {
   "cell_type": "code",
   "execution_count": 15,
   "metadata": {},
   "outputs": [
    {
     "name": "stdout",
     "output_type": "stream",
     "text": [
      "6\n",
      "1 5 10 15 20 25\n",
      "5\n",
      "2 4 5 9 15\n",
      "81\n"
     ]
    }
   ],
   "source": [
    "m=int(input())\n",
    "ar1=[int(x) for x in input().split()]\n",
    "n=int(input())\n",
    "ar2=[int(x) for x in input().split()]\n",
    "i=0\n",
    "j=0\n",
    "result, sum1, sum2 = 0, 0, 0\n",
    "while (i < m and j < n):\n",
    "    if ar1[i] < ar2[j]:\n",
    "        sum1 += ar1[i]\n",
    "        i += 1\n",
    "    elif ar1[i] > ar2[j]:\n",
    "        sum2 += ar2[j]\n",
    "        j += 1\n",
    "\n",
    "    else:\n",
    "        result += max(sum1, sum2)\n",
    "        result += ar1[i]\n",
    "        i +=1\n",
    "        j += 1\n",
    "        sum1, sum2 = 0 ,0\n",
    "while i < m:\n",
    "    sum1 += ar1[i]\n",
    "    i += 1\n",
    "while j < n:\n",
    "    sum2 += ar2[j]\n",
    "    j += 1\n",
    "result+=max(sum1,sum2)\n",
    "print(result)"
   ]
  },
  {
   "cell_type": "markdown",
   "metadata": {},
   "source": [
    "### L"
   ]
  }
 ],
 "metadata": {
  "kernelspec": {
   "display_name": "Python 3",
   "language": "python",
   "name": "python3"
  },
  "language_info": {
   "codemirror_mode": {
    "name": "ipython",
    "version": 3
   },
   "file_extension": ".py",
   "mimetype": "text/x-python",
   "name": "python",
   "nbconvert_exporter": "python",
   "pygments_lexer": "ipython3",
   "version": "3.8.6rc1"
  }
 },
 "nbformat": 4,
 "nbformat_minor": 4
}
